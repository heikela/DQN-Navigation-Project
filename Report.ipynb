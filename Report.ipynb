{
 "cells": [
  {
   "cell_type": "markdown",
   "metadata": {},
   "source": [
    "# Navigation\n",
    "\n",
    "---\n",
    "\n",
    "This notebook contains my solution to the navigation challenge described in the Readme. To define and retrain the agent, execute all code cells below.\n",
    "\n",
    "If further evaluation of the successfully trained agent is desired, this can be achieved by running the code that defines the model, skipping over the training, creating an agent and replacing its local and target network weights with weights loaded from the checkpoint file (code for this is not included).\n",
    "\n",
    "### 1. Set up the Environment\n",
    "\n",
    "Install dependencies by running the following cell."
   ]
  },
  {
   "cell_type": "code",
   "execution_count": 1,
   "metadata": {},
   "outputs": [],
   "source": [
    "!pip -q install ./python"
   ]
  },
  {
   "cell_type": "markdown",
   "metadata": {},
   "source": [
    "Connect to the Unity Environment that defines the environment for our learning task. If running this notebook on the Jupyter environment of the Udacity course, execute the following cell as is - the environment is preinstalled in this case. If running locally, you may need to edit the `file_name` to match your installation location and the operating system dependent filename."
   ]
  },
  {
   "cell_type": "code",
   "execution_count": 2,
   "metadata": {},
   "outputs": [
    {
     "name": "stderr",
     "output_type": "stream",
     "text": [
      "INFO:unityagents:\n",
      "'Academy' started successfully!\n",
      "Unity Academy name: Academy\n",
      "        Number of Brains: 1\n",
      "        Number of External Brains : 1\n",
      "        Lesson number : 0\n",
      "        Reset Parameters :\n",
      "\t\t\n",
      "Unity brain name: BananaBrain\n",
      "        Number of Visual Observations (per agent): 0\n",
      "        Vector Observation space type: continuous\n",
      "        Vector Observation space size (per agent): 37\n",
      "        Number of stacked Vector Observation: 1\n",
      "        Vector Action space type: discrete\n",
      "        Vector Action space size (per agent): 4\n",
      "        Vector Action descriptions: , , , \n"
     ]
    }
   ],
   "source": [
    "from unityagents import UnityEnvironment\n",
    "import numpy as np\n",
    "\n",
    "# please do not modify the line below if running in the Udacity environment\n",
    "env = UnityEnvironment(file_name=\"/data/Banana_Linux_NoVis/Banana.x86_64\")"
   ]
  },
  {
   "cell_type": "markdown",
   "metadata": {},
   "source": [
    "Environments contain **_brains_** which are responsible for deciding the actions of their associated agents. Here we check for the first brain available, and set it as the default brain we will be controlling from Python."
   ]
  },
  {
   "cell_type": "code",
   "execution_count": 3,
   "metadata": {},
   "outputs": [],
   "source": [
    "# get the default brain\n",
    "brain_name = env.brain_names[0]\n",
    "brain = env.brains[brain_name]"
   ]
  },
  {
   "cell_type": "markdown",
   "metadata": {},
   "source": [
    "### 2. State and Action Spaces\n",
    "\n",
    "Let us examine the state and action spaces provided by the environment to check that we have understood the environment description correctly and are ready to define an agent that makes use of the available observations and actions."
   ]
  },
  {
   "cell_type": "code",
   "execution_count": 4,
   "metadata": {},
   "outputs": [
    {
     "name": "stdout",
     "output_type": "stream",
     "text": [
      "Number of agents: 1\n",
      "Number of actions: 4\n",
      "States look like: [ 1.          0.          0.          0.          0.84408134  0.          0.\n",
      "  1.          0.          0.0748472   0.          1.          0.          0.\n",
      "  0.25755     1.          0.          0.          0.          0.74177343\n",
      "  0.          1.          0.          0.          0.25854847  0.          0.\n",
      "  1.          0.          0.09355672  0.          1.          0.          0.\n",
      "  0.31969345  0.          0.        ]\n",
      "States have length: 37\n"
     ]
    }
   ],
   "source": [
    "# reset the environment\n",
    "env_info = env.reset(train_mode=True)[brain_name]\n",
    "\n",
    "# number of agents in the environment\n",
    "print('Number of agents:', len(env_info.agents))\n",
    "\n",
    "# number of actions\n",
    "action_size = brain.vector_action_space_size\n",
    "print('Number of actions:', action_size)\n",
    "\n",
    "# examine the state space \n",
    "state = env_info.vector_observations[0]\n",
    "print('States look like:', state)\n",
    "state_size = len(state)\n",
    "print('States have length:', state_size)"
   ]
  },
  {
   "cell_type": "markdown",
   "metadata": {},
   "source": [
    "We can see that there are four available actions as expected, and that states have a length of 37, also as expected based on documentation. It is not at all obvious what the structure of the observation vector is, but perhaps an agent can learn to make use of it through reinforcement learning even if its programmer does not understand the observation."
   ]
  },
  {
   "cell_type": "markdown",
   "metadata": {},
   "source": [
    "### 3. Define an artificial neural network that can be used as a Q estimator in this environment, and a replay buffer for reusing past experience."
   ]
  },
  {
   "cell_type": "markdown",
   "metadata": {},
   "source": [
    "Import libraries."
   ]
  },
  {
   "cell_type": "code",
   "execution_count": 5,
   "metadata": {},
   "outputs": [],
   "source": [
    "from collections import namedtuple, deque\n",
    "import random\n",
    "import torch\n",
    "import torch.nn as nn\n",
    "import torch.nn.functional as F\n",
    "import torch.optim as optim"
   ]
  },
  {
   "cell_type": "markdown",
   "metadata": {},
   "source": [
    "We define a neural network with 2 hidden layers to represent our estimates for the Q values of the optimal policy.\n",
    "\n",
    "The network is set up so that given a state/observation, it will simultaneusly output the Q value estimates of each action. Because of this, the output layer size needs to match the number of available actions in the environment.\n",
    "\n",
    "Similarly the size of the input to the network should match the size of the observed state (after preprocessing if any).\n",
    "\n",
    "The sizes of the hidden layers can also be given as parameters. I have chosen [ReLU](https://en.wikipedia.org/wiki/Rectifier_(neural_networks)) as the nonlinearity after each hidden layer. There is no nonlinearity after the final fully connected layer as the ability to represent arbitrary Q-values is desirable."
   ]
  },
  {
   "cell_type": "code",
   "execution_count": 6,
   "metadata": {},
   "outputs": [],
   "source": [
    "class QNetwork3Layer(nn.Module):\n",
    "    \"\"\"Actor (Policy) Model.\"\"\"\n",
    "\n",
    "    def __init__(self, state_size, action_size, seed, nh1=64, nh2=64):\n",
    "        \"\"\"Initialize parameters and build model.\n",
    "        Params\n",
    "        ======\n",
    "            state_size (int): Dimension of each state\n",
    "            action_size (int): Dimension of each action\n",
    "            seed (int): Random seed\n",
    "        \"\"\"\n",
    "        super(QNetwork3Layer, self).__init__()\n",
    "        self.seed = torch.manual_seed(seed)\n",
    "        self.FC1 = nn.Linear(state_size, nh1)\n",
    "        self.FC2 = nn.Linear(nh1, nh2)\n",
    "        self.Output = nn.Linear(nh2, action_size)\n",
    "\n",
    "    def forward(self, state):\n",
    "        \"\"\"Build a network that maps state -> action values.\"\"\"\n",
    "        return self.Output(F.relu(self.FC2(F.relu(self.FC1(state)))))\n"
   ]
  },
  {
   "cell_type": "markdown",
   "metadata": {},
   "source": [
    "In order to employ the Deep Q-Learning algorithm, we will need a replay buffer for tracking past experience."
   ]
  },
  {
   "cell_type": "code",
   "execution_count": 7,
   "metadata": {},
   "outputs": [],
   "source": [
    "class ReplayBuffer:\n",
    "    \"\"\"Fixed-size buffer to store experience tuples.\"\"\"\n",
    "\n",
    "    def __init__(self, buffer_size, batch_size, seed):\n",
    "        \"\"\"Initialize a ReplayBuffer object.\n",
    "\n",
    "        Params\n",
    "        ======\n",
    "            buffer_size (int): maximum size of buffer\n",
    "            batch_size (int): size of each training batch\n",
    "            seed (int): random seed\n",
    "        \"\"\"\n",
    "        self.memory = deque(maxlen=buffer_size)  \n",
    "        self.batch_size = batch_size\n",
    "        self.experience = namedtuple(\"Experience\", field_names=[\"state\", \"action\", \"reward\", \"next_state\", \"done\"])\n",
    "        self.seed = random.seed(seed)\n",
    "    \n",
    "    def add(self, state, action, reward, next_state, done):\n",
    "        \"\"\"Add a new experience to memory.\"\"\"\n",
    "        e = self.experience(state, action, reward, next_state, done)\n",
    "        self.memory.append(e)\n",
    "    \n",
    "    def sample(self):\n",
    "        \"\"\"Randomly sample a batch of experiences from memory.\"\"\"\n",
    "        experiences = random.sample(self.memory, k=self.batch_size)\n",
    "\n",
    "        states = torch.from_numpy(np.vstack([e.state for e in experiences if e is not None])).float().to(device)\n",
    "        actions = torch.from_numpy(np.vstack([e.action for e in experiences if e is not None])).long().to(device)\n",
    "        rewards = torch.from_numpy(np.vstack([e.reward for e in experiences if e is not None])).float().to(device)\n",
    "        next_states = torch.from_numpy(np.vstack([e.next_state for e in experiences if e is not None])).float().to(device)\n",
    "        dones = torch.from_numpy(np.vstack([e.done for e in experiences if e is not None]).astype(np.uint8)).float().to(device)\n",
    "  \n",
    "        return (states, actions, rewards, next_states, dones)\n",
    "\n",
    "    def __len__(self):\n",
    "        \"\"\"Return the current size of internal memory.\"\"\"\n",
    "        return len(self.memory)"
   ]
  },
  {
   "cell_type": "markdown",
   "metadata": {},
   "source": [
    "### 4. Agent definition\n",
    "\n",
    "Equipped with a neural network that could potentially learn to estimate Q-values and a replay buffer to help us re-use experience in the Deep Q-Learning algorithm, we are ready to define an agent that combines these to explore and learn to behave more effectively in the given environment.\n",
    "\n",
    "The agent maintains a replay buffer for past training samples, and two Q-Networks. When learning, the weights of the `local` network are optimized, using `target` network together with rewards to set the target for learning. Weights of the target network are updated to follow the local weights slowly.\n",
    "\n",
    "For updating the local weights, Adam optimizer is used."
   ]
  },
  {
   "cell_type": "code",
   "execution_count": 8,
   "metadata": {},
   "outputs": [],
   "source": [
    "# Depending on whether Cuda is available, place tensor computations on the GPU or CPU.\n",
    "device = torch.device(\"cuda:0\" if torch.cuda.is_available() else \"cpu\")\n",
    "\n",
    "class Agent():\n",
    "    \"\"\"Interacts with and learns from the environment.\"\"\"\n",
    "\n",
    "    def __init__(self, state_size, action_size, seed,\n",
    "                 buffer_size=int(1e5),\n",
    "                 batch_size=64,\n",
    "                 gamma=0.99,\n",
    "                 tau=1e-3,\n",
    "                 lr=5e-4,\n",
    "                 update_every=1,\n",
    "                 batches_per_update=1):\n",
    "        \"\"\"Initialize an Agent object.\n",
    "        \n",
    "        Params\n",
    "        ======\n",
    "            state_size (int): dimension of each state\n",
    "            action_size (int): dimension of each action\n",
    "            seed (int): random seed\n",
    "            buffer_size (int): how many steps of past experience to retain\n",
    "            batch_size (int): how many samples from experience to use in one minibatch of training\n",
    "            gamma: discount rate for rewards\n",
    "            tau: the rate at which weights are transferred from the currently optimized Q-network to the target network\n",
    "            lr: learning rate\n",
    "            update_every: update network weights after this many timesteps\n",
    "            batches_per_update: how many weight updates to carry out each time training occurs (how many minibatches and\n",
    "              transfers of weights from current to target network)\n",
    "        \"\"\"\n",
    "        self.state_size = state_size\n",
    "        self.action_size = action_size\n",
    "        self.seed = random.seed(seed)\n",
    "        self.batch_size = batch_size\n",
    "        self.gamma = gamma\n",
    "        self.tau = tau\n",
    "        self.update_every = update_every\n",
    "        self.batches_per_update = batches_per_update\n",
    "\n",
    "        # Q-Network\n",
    "        self.qnetwork_local = QNetwork3Layer(self.state_size, action_size, seed).to(device)\n",
    "        self.qnetwork_target = QNetwork3Layer(self.state_size, action_size, seed).to(device)\n",
    "        self.optimizer = optim.Adam(self.qnetwork_local.parameters(), lr=lr)\n",
    "\n",
    "        # Replay memory\n",
    "        self.memory = ReplayBuffer(buffer_size, batch_size, seed)\n",
    "        # Initialize time step (for updating every UPDATE_EVERY steps)\n",
    "        self.t_step = 0\n",
    "    \n",
    "    def step(self, state, action, reward, next_state, done):\n",
    "        \"\"\"Keep track of experience, and learn.\"\"\"\n",
    "        # Save experience in replay buffer\n",
    "        self.memory.add(state, action, reward, next_state, done)\n",
    "        \n",
    "        # Learn every update_every time steps.\n",
    "        self.t_step = (self.t_step + 1) % self.update_every\n",
    "        if self.t_step == 0:\n",
    "            # If enough samples are available in memory, get random subset and learn\n",
    "            if len(self.memory) > self.batch_size:\n",
    "                # Carry out batches_per_update updates.\n",
    "                for i in range(0, self.batches_per_update):\n",
    "                    experiences = self.memory.sample()\n",
    "                    self.learn(experiences)\n",
    "\n",
    "    def act(self, state, eps=0.):\n",
    "        \"\"\"Returns actions for given state as per current policy.\n",
    "        \n",
    "        Params\n",
    "        ======\n",
    "            state (array_like): current state\n",
    "            eps (float): epsilon, for epsilon-greedy action selection\n",
    "        \"\"\"\n",
    "        state = torch.from_numpy(state).float().unsqueeze(0).to(device)\n",
    "        self.qnetwork_local.eval()\n",
    "        # Epsilon-greedy action selection\n",
    "        if random.random() > eps:\n",
    "            with torch.no_grad():\n",
    "                action_values = self.qnetwork_local(state)\n",
    "                return np.argmax(action_values.cpu().data.numpy())\n",
    "        else:\n",
    "            return random.choice(np.arange(self.action_size))\n",
    "\n",
    "    def learn(self, experiences):\n",
    "        \"\"\"Update value parameters using given batch of experience tuples.\n",
    "\n",
    "        Params\n",
    "        ======\n",
    "            experiences (Tuple[torch.Variable]): tuple of (s, a, r, s', done) tuples \n",
    "        \"\"\"\n",
    "        states, actions, rewards, next_states, dones = experiences\n",
    "\n",
    "        ## compute and minimize the loss\n",
    "        # set networks to training mode in case any layers have mode dependent behaviour.\n",
    "        self.qnetwork_local.train()\n",
    "        self.qnetwork_target.train()\n",
    "        with torch.no_grad():\n",
    "            next_qs = self.qnetwork_target.forward(next_states)\n",
    "            max_next_qs = next_qs.max(1, keepdim=True)[0]\n",
    "            targets = (1 - dones) * self.gamma * max_next_qs + rewards\n",
    "        self.optimizer.zero_grad()\n",
    "        prediction = self.qnetwork_local.forward(states).gather(1, actions)\n",
    "        loss = F.mse_loss(prediction, targets)\n",
    "        loss.backward()\n",
    "        self.optimizer.step()\n",
    "\n",
    "        # ------------------- update target network ------------------- #\n",
    "        self.soft_update(self.qnetwork_local, self.qnetwork_target)                     \n",
    "\n",
    "    def soft_update(self, local_model, target_model):\n",
    "        \"\"\"Soft update model parameters.\n",
    "        θ_target = τ*θ_local + (1 - τ)*θ_target\n",
    "\n",
    "        Params\n",
    "        ======\n",
    "            local_model (PyTorch model): weights will be copied from\n",
    "            target_model (PyTorch model): weights will be copied to\n",
    "            tau (float): interpolation parameter \n",
    "        \"\"\"\n",
    "        for target_param, local_param in zip(target_model.parameters(), local_model.parameters()):\n",
    "            target_param.data.copy_(self.tau*local_param.data + (1.0-self.tau)*target_param.data)\n"
   ]
  },
  {
   "cell_type": "markdown",
   "metadata": {},
   "source": [
    "### 5. Train the agent with deep Q-learning\n",
    "\n",
    "Define a function to carry out the [deep Q-learning](https://storage.googleapis.com/deepmind-media/dqn/DQNNaturePaper.pdf) algorithm.\n",
    "\n",
    "Because the ray-based observation might miss bananas that fall between rays when the agent turns, we include preprocessing which concatenates the four most recent observations and presents the agent with this combined vector as the state / observation vector."
   ]
  },
  {
   "cell_type": "code",
   "execution_count": 9,
   "metadata": {},
   "outputs": [],
   "source": [
    "def dqn(agent, max_episode=2000, max_t=1000, eps_start=1.0, eps_end=0.01, eps_decay=0.995, previous_scores = None):\n",
    "    \"\"\"Deep Q-Learning.\n",
    "    \n",
    "    Params\n",
    "    ======\n",
    "        agent (Agent): the agent to train\n",
    "        max_episodes (int): maximum number of training episodes, including any episodes supplied in previous_scores\n",
    "        max_t (int): maximum number of timesteps per episode\n",
    "        eps_start (float): starting value of epsilon, for epsilon-greedy action selection\n",
    "        eps_end (float): minimum value of epsilon\n",
    "        eps_decay (float): multiplicative factor (per episode) for decreasing epsilon\n",
    "        previous_scores (array of float): scores from earlier training phases.\n",
    "    \"\"\"\n",
    "    scores = previous_scores if previous_scores else []           # list containing scores from each episode\n",
    "    scores_window = deque(scores, maxlen=100)  # last 100 scores\n",
    "    eps = eps_start                    # initialize epsilon\n",
    "    for i_episode in range(len(scores) + 1, max_episode+1):\n",
    "        env_info = env.reset(train_mode=True)[brain_name] # reset the environment\n",
    "        state_frame = env_info.vector_observations[0]            # get the current state\n",
    "        # we want to preprocess the state to concatenate 4 most recent observations.\n",
    "        # Initialise with 4 times the initial observation.\n",
    "        state = np.hstack([state_frame, state_frame, state_frame, state_frame])\n",
    "        score = 0\n",
    "        for t in range(0, max_t):\n",
    "            action = agent.act(state, eps)\n",
    "            env_info = env.step(action)[brain_name]        # send the action to the environment\n",
    "            next_state_frame = env_info.vector_observations[0]   # get the next state\n",
    "            next_state = np.hstack([state[1:-state_size + 1], next_state_frame]) # concatenate four most recent states\n",
    "            reward = env_info.rewards[0]                   # get the reward\n",
    "            done = env_info.local_done[0]                  # see if episode has finished\n",
    "            agent.step(state, action, reward, next_state, done)\n",
    "            state = next_state\n",
    "            score += reward\n",
    "            if done:\n",
    "                break \n",
    "        scores_window.append(score)       # save most recent score\n",
    "        scores.append(score)              # save most recent score\n",
    "        eps = max(eps_end, eps_decay*eps) # decrease epsilon\n",
    "        print('\\rEpisode {}\\tAverage Score: {:.2f}'.format(i_episode, np.mean(scores_window)), end=\"\")\n",
    "        if i_episode % 100 == 0:\n",
    "            print('\\rEpisode {}\\tAverage Score: {:.2f}'.format(i_episode, np.mean(scores_window)))\n",
    "        if np.mean(scores_window)>=13.0:\n",
    "            print('\\nEnvironment solved in {:d} episodes!\\tAverage Score: {:.2f}'.format(i_episode-100, np.mean(scores_window)))\n",
    "            torch.save(agent.qnetwork_local.state_dict(), 'checkpoint.pth')\n",
    "            break\n",
    "    return scores"
   ]
  },
  {
   "cell_type": "markdown",
   "metadata": {},
   "source": [
    "Perform a grid search over a few different parameter choices to understand which hyperparameters look promising."
   ]
  },
  {
   "cell_type": "code",
   "execution_count": 10,
   "metadata": {},
   "outputs": [],
   "source": [
    "params = namedtuple(\"Params\", field_names=[\"lr\", \"tau\", \"frames_between_update\"])\n"
   ]
  },
  {
   "cell_type": "code",
   "execution_count": 11,
   "metadata": {},
   "outputs": [
    {
     "data": {
      "text/plain": [
       "[Params(lr=0.001, tau=0.001, frames_between_update=1),\n",
       " Params(lr=0.001, tau=0.001, frames_between_update=4),\n",
       " Params(lr=0.001, tau=0.0001, frames_between_update=1),\n",
       " Params(lr=0.001, tau=0.0001, frames_between_update=4),\n",
       " Params(lr=0.0003, tau=0.001, frames_between_update=1),\n",
       " Params(lr=0.0003, tau=0.001, frames_between_update=4),\n",
       " Params(lr=0.0003, tau=0.0001, frames_between_update=1),\n",
       " Params(lr=0.0003, tau=0.0001, frames_between_update=4),\n",
       " Params(lr=0.0001, tau=0.001, frames_between_update=1),\n",
       " Params(lr=0.0001, tau=0.001, frames_between_update=4),\n",
       " Params(lr=0.0001, tau=0.0001, frames_between_update=1),\n",
       " Params(lr=0.0001, tau=0.0001, frames_between_update=4)]"
      ]
     },
     "execution_count": 11,
     "metadata": {},
     "output_type": "execute_result"
    }
   ],
   "source": [
    "params_grid = [params(lr, tau, frames_between_update)\n",
    "               for lr in [1e-3, 3e-4, 1e-4]\n",
    "               for tau in [1e-3, 1e-4]\n",
    "               for frames_between_update in [1, 4]]\n",
    "params_grid"
   ]
  },
  {
   "cell_type": "markdown",
   "metadata": {},
   "source": [
    "Run a limited length training procedure at each hyperparameter combination defined above. Use starting epsilon of 0.5. In initial testing it appeared that very high epsilon values did not allow any learning to happen, presumably because the agent was not moving forward enough to encounter bananas at all in most test runs.\n",
    "\n",
    "We use the default hidden layer sizes as defined by the neural network definition above. This means 64 hidden units in each of the hidden layers."
   ]
  },
  {
   "cell_type": "code",
   "execution_count": 12,
   "metadata": {},
   "outputs": [],
   "source": [
    "agents = [Agent(state_size=state_size * 4, action_size=action_size, seed=4, lr=p.lr, tau=p.tau, update_every=p.frames_between_update)\n",
    "          for p in params_grid]"
   ]
  },
  {
   "cell_type": "code",
   "execution_count": 13,
   "metadata": {
    "scrolled": true
   },
   "outputs": [
    {
     "name": "stdout",
     "output_type": "stream",
     "text": [
      "Episode 100\tAverage Score: 0.37\n",
      "Episode 200\tAverage Score: 0.95\n",
      "Episode 100\tAverage Score: 1.71\n",
      "Episode 200\tAverage Score: 4.29\n",
      "Episode 100\tAverage Score: 1.38\n",
      "Episode 200\tAverage Score: 3.05\n",
      "Episode 100\tAverage Score: 0.08\n",
      "Episode 200\tAverage Score: 1.16\n",
      "Episode 100\tAverage Score: 1.73\n",
      "Episode 200\tAverage Score: 4.18\n",
      "Episode 100\tAverage Score: 2.05\n",
      "Episode 200\tAverage Score: 5.58\n",
      "Episode 100\tAverage Score: 0.62\n",
      "Episode 200\tAverage Score: 2.24\n",
      "Episode 100\tAverage Score: 0.55\n",
      "Episode 200\tAverage Score: 0.67\n",
      "Episode 100\tAverage Score: 2.19\n",
      "Episode 200\tAverage Score: 6.41\n",
      "Episode 100\tAverage Score: -0.01\n",
      "Episode 200\tAverage Score: 1.28\n",
      "Episode 100\tAverage Score: 0.82\n",
      "Episode 200\tAverage Score: 2.68\n",
      "Episode 100\tAverage Score: 0.56\n",
      "Episode 200\tAverage Score: 0.96\n"
     ]
    }
   ],
   "source": [
    "scores = [dqn(agent, eps_start = 0.5, eps_end = 0.05, eps_decay = 0.997, max_episode=200) for agent in agents]\n"
   ]
  },
  {
   "cell_type": "markdown",
   "metadata": {},
   "source": [
    "It appears the 9th agent performs best in this trial. Let us continue training this one with epsilon continuing from where it would be left after the 200 episodes above."
   ]
  },
  {
   "cell_type": "code",
   "execution_count": 15,
   "metadata": {
    "scrolled": true
   },
   "outputs": [
    {
     "name": "stdout",
     "output_type": "stream",
     "text": [
      "Episode 300\tAverage Score: 7.65\n",
      "Episode 400\tAverage Score: 8.42\n",
      "Episode 500\tAverage Score: 10.15\n",
      "Episode 600\tAverage Score: 10.86\n",
      "Episode 700\tAverage Score: 10.93\n",
      "Episode 800\tAverage Score: 11.08\n",
      "Episode 900\tAverage Score: 11.33\n",
      "Episode 1000\tAverage Score: 11.33\n",
      "Episode 1100\tAverage Score: 11.12\n",
      "Episode 1200\tAverage Score: 10.86\n",
      "Episode 1300\tAverage Score: 11.59\n",
      "Episode 1400\tAverage Score: 11.97\n",
      "Episode 1500\tAverage Score: 11.76\n",
      "Episode 1600\tAverage Score: 11.32\n",
      "Episode 1700\tAverage Score: 12.32\n",
      "Episode 1800\tAverage Score: 12.35\n",
      "Episode 1900\tAverage Score: 11.81\n",
      "Episode 2000\tAverage Score: 12.08\n",
      "Episode 2100\tAverage Score: 11.88\n",
      "Episode 2200\tAverage Score: 11.11\n",
      "Episode 2300\tAverage Score: 11.69\n",
      "Episode 2400\tAverage Score: 12.47\n",
      "Episode 2500\tAverage Score: 12.90\n",
      "Episode 2504\tAverage Score: 13.00\n",
      "Environment solved in 2404 episodes!\tAverage Score: 13.00\n"
     ]
    }
   ],
   "source": [
    "best_agent = agents[8]\n",
    "cont_scores = dqn(best_agent, eps_start = 0.275, eps_end = 0.1, eps_decay = 0.997, max_episode=5000, previous_scores = scores[8])\n"
   ]
  },
  {
   "cell_type": "markdown",
   "metadata": {},
   "source": [
    "### 6. Results\n",
    "\n",
    "As we can see in the output above, the agent trained with the hyperparameters that seemed most promising solved the invironment in 2404 steps when we continued the training. The model weights at the end of the evaluation have now been saved in the file `checkpoint.pth` and can be loaded from there if any later evaluation is desired. Finally, let us plot the scores to see how the agent improved its performance over the training episodes."
   ]
  },
  {
   "cell_type": "code",
   "execution_count": 17,
   "metadata": {},
   "outputs": [
    {
     "data": {
      "image/png": "[encoded data removed]",
      "text/plain": [
       "<matplotlib.figure.Figure at 0x7f6a2e8f8400>"
      ]
     },
     "metadata": {
      "needs_background": "light"
     },
     "output_type": "display_data"
    }
   ],
   "source": [
    "import matplotlib.pyplot as plt\n",
    "%matplotlib inline\n",
    "\n",
    "# plot the scores\n",
    "fig = plt.figure()\n",
    "plt.plot(np.arange(len(cont_scores)), cont_scores)\n",
    "plt.ylabel('Score')\n",
    "plt.xlabel('Episode #')\n",
    "plt.show()"
   ]
  },
  {
   "cell_type": "markdown",
   "metadata": {},
   "source": [
    "The plot shows that learning does not proceed very effectively in this case after reaching an average return of approximately 10 per episode in 500 episodes.\n",
    "\n",
    "To finish off, we can close the Unity environment."
   ]
  },
  {
   "cell_type": "code",
   "execution_count": 19,
   "metadata": {},
   "outputs": [],
   "source": [
    "env.close()"
   ]
  },
  {
   "cell_type": "markdown",
   "metadata": {},
   "source": [
    "### 7. Further work\n",
    "\n",
    "The most obvious short term avenue for further work would be to investigate why learning slowed down around average return levels of 10 to 11, after 500 episodes. Running multiple training runs or trying different hyperparameters at this stage of the training could shed light into reasons of slow learning.\n",
    "\n",
    "Additionally, further work could proceed in at least three broad directions: Optimizing the agent's structure, using a more sophisticated learning algorithm, or solving the environment based on pixel input instead of the ray-based observations used in this version.\n",
    "\n",
    "#### Optimizing the agent structure\n",
    "\n",
    "It would be interesting to see whether quicker learning results can be achieved with a different neural network architecture or preprocessing. For example, a more powerful neural network could be created by adding another hidden layer. As the neural network becomes more expressive, the risk of overfitting to observations increases. This could be countered e.g. by including dropout regularisation in the network. Equally, it would be interesting to see if adequate results can be achieved with an even smaller neural network and less preprocessing.\n",
    "\n",
    "#### More sophisticated learning algorithm\n",
    "\n",
    "The simple DQN algorithm could be improved by implementing:\n",
    " - [Double Q Learning](https://papers.nips.cc/paper/3964-double-q-learning), reducing the tendency for a SARSAMAX (like Deep Q-learning) algorithm to overestimate Q values.\n",
    " - [Dueling Networks](https://arxiv.org/abs/1511.06581) where instead of the action value function Q, a network with two \"heads\" estimates the state value function V and the action depended advantage function A separately, resulting in lower variance\n",
    " - [Prioritized Experience Replay](https://arxiv.org/abs/1511.05952) which makes better use of recorded experience by focusing on samples that the network has trouble estimating correctly.\n",
    "\n",
    "#### Pixel based version of the environment\n",
    "\n",
    "A version of the environment with pixel based first person view is available. Solving this would require a larger neural network, but potentially allow for better solutions due to more information available for the agent."
   ]
  },
  {
   "cell_type": "code",
   "execution_count": null,
   "metadata": {},
   "outputs": [],
   "source": []
  }
 ],
 "metadata": {
  "kernelspec": {
   "display_name": "Python 3",
   "language": "python",
   "name": "python3"
  },
  "language_info": {
   "codemirror_mode": {
    "name": "ipython",
    "version": 3
   },
   "file_extension": ".py",
   "mimetype": "text/x-python",
   "name": "python",
   "nbconvert_exporter": "python",
   "pygments_lexer": "ipython3",
   "version": "3.6.3"
  }
 },
 "nbformat": 4,
 "nbformat_minor": 2
}
